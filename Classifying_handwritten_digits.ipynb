{
  "nbformat": 4,
  "nbformat_minor": 0,
  "metadata": {
    "colab": {
      "name": "Classifying_handwritten_digits.ipynb",
      "provenance": [],
      "collapsed_sections": []
    },
    "kernelspec": {
      "name": "python3",
      "display_name": "Python 3"
    },
    "language_info": {
      "name": "python"
    },
    "gpuClass": "standard"
  },
  "cells": [
    {
      "cell_type": "code",
      "execution_count": 31,
      "metadata": {
        "colab": {
          "base_uri": "https://localhost:8080/"
        },
        "id": "t5mLIiH3xiPp",
        "outputId": "2e21a0e7-65b8-4010-85a7-006c31ae8c6c"
      },
      "outputs": [
        {
          "output_type": "stream",
          "name": "stdout",
          "text": [
            "Epoch 1/5\n",
            "469/469 [==============================] - 4s 8ms/step - loss: 0.2585 - accuracy: 0.9248\n",
            "Epoch 2/5\n",
            "469/469 [==============================] - 4s 9ms/step - loss: 0.1060 - accuracy: 0.9684\n",
            "Epoch 3/5\n",
            "469/469 [==============================] - 4s 8ms/step - loss: 0.0693 - accuracy: 0.9792\n",
            "Epoch 4/5\n",
            "469/469 [==============================] - 4s 8ms/step - loss: 0.0506 - accuracy: 0.9847\n",
            "Epoch 5/5\n",
            "469/469 [==============================] - 3s 7ms/step - loss: 0.0373 - accuracy: 0.9888\n",
            "313/313 [==============================] - 1s 2ms/step - loss: 0.0718 - accuracy: 0.9783\n",
            "test_acc: 0.9782999753952026\n",
            "done\n"
          ]
        }
      ],
      "source": [
        "# Load MNIST dataset from keras\n",
        "from keras.datasets import mnist\n",
        "(train_images, train_labels), (test_images, test_labels) = mnist.load_data()\n",
        "\n",
        "# Neural network architecture\n",
        "from keras import models\n",
        "from keras import layers\n",
        "\n",
        "network = models. Sequential()\n",
        "network.add(layers.Dense(512, activation='relu', input_shape=(28 * 28,)))\n",
        "network.add(layers.Dense(10,activation='softmax'))\n",
        "\n",
        "# Compilation\n",
        "network.compile(optimizer='rmsprop', loss='categorical_crossentropy', metrics=['accuracy'])\n",
        "\n",
        "# Preparing image data\n",
        "train_images = train_images.reshape((60000, 28 * 28))\n",
        "train_images = train_images.astype('float32')/255\n",
        "\n",
        "test_images = test_images.reshape((10000, 28 * 28))\n",
        "test_images = test_images.astype('float32')/255\n",
        "\n",
        "# Preparing labels\n",
        "from tensorflow.keras.utils import to_categorical\n",
        "\n",
        "train_labels = to_categorical(train_labels)\n",
        "test_labels = to_categorical(test_labels)\n",
        "\n",
        "network.fit(train_images, train_labels, epochs=5, batch_size=128)\n",
        "\n",
        "test_loss, test_acc = network.evaluate(test_images, test_labels)\n",
        "print('test_acc:', test_acc)\n",
        "\n",
        "print(\"done\")"
      ]
    },
    {
      "cell_type": "markdown",
      "source": [
        "### 신경망을 이용한 손글씨 숫자 분류\n",
        "* 케라스 파이썬 라이브러리를 사용\n",
        "* MNIST 데이터셋 (흑백 손글씨 숫자 이미지 28x28 픽셀) 사용\n",
        "* MNIST 데이터셋은 Numpy 배열 형태로 케라스에 포함되어 있음 (6만개의 훈련 이미지, 1만개의 테스트 이미지)\n",
        "* train_images와 train_labels가 모델이 학습해야 할 **training set**을 구성\n",
        "* 모델은 test_images와 test_labels로 구성된 **test set**에서 테스트 될 것\n",
        "* 이미지는 넘파이 배열로 인코딩되어 있고 레이블은 0부터 9까지의 숫자 배열, 이미지와 레이블은 일대일 관계\n",
        "* 작업 순서\n",
        "    * 훈련 데이터(train_images, train_labels)를 네트워크에 주입\n",
        "    * 네트워크는 이미지와 레이블을 연관시킬 수 있도록 학습\n",
        "    * test_images에 대한 예측을 네트워크에 요청\n",
        "    * 이 예측이 test_labels와 맞는지 확인\n",
        "* 신경망의 핵심 구성 요소는 **층(layer)** : 주어진 문제에 더 의미있는 표현을 입력된 데이터로부터 추출\n",
        "* 대부분의 딥러닝은 간단한 층을 연결하여 구성되고, 점진적으로 데이터를 정제하는 형태를 띔\n",
        "* 이 문제에서는 완전 연결(fully connected)된 신경망 층인 **Dense layer** 2개가 연속되어 있음\n",
        "* 2번째 층은 10개의 확률 점수가 들어 있는 배열(모두 합하면 1)을 반환하는 **softmax** 층\n",
        "* 각 점수는 현재 숫자 이미지가 10개의 숫자 클래스 중 하나에 속할 확률\n",
        "* 신경망이 훈련 준비를 마치기 위해서 컴파일 단계에 포함될 세 가지가 더 필요\n",
        "    * **loss function** : 훈련 데이터에서 신경망의 성능을 측정하는 방법으로 네트워크가 옳은 방향으로 학습될 수 있도록 도와줌\n",
        "    * **optimizer** : 입력된 데이터와 손실 함수를 기반으로 네트워크를 업데이트하는 메커니즘\n",
        "    * **훈련과 테스트 과정을 모니터링할 지표** : 본 문제에서는 정확도만 고려함\n",
        "* 훈련을 시작하기 전에 데이터를 네트워크에 맞는 크기로 바꾸고 모든 값을 0과 1 사이로 스케일을 조정\n",
        "    * 훈련 이미지는 [0, 255] 사이의 값인 uint8 타입의 (60000, 28, 28) 크기를 가진 배열로 저장되어 있음\n",
        "    * 이 데이터를 0과 1 사이의 값을 갖는 float32 타입의 (60000, 28 * 28) 크기인 배열로 변환\n",
        "* 레이블을 범주형으로 인코딩\n",
        "    * to_categorical 함수 이용\n",
        "    * 훈련 데이터의 개수가 n이고 클래스의 개수가 k일 때, to_categorical 함수는 입력 받은 (n)크기의 1차원 정수 배열을 (n, k) 크기의 2차원 배열로 변경\n",
        "    * 이 배열의 두 번째 차원의 인덱스가 클래스 값을 의미\n",
        "    * ex) to_categorical([0, 2])는 [[1, 0, 0],[0, 0, 1]]을 반환\n",
        "* 케라스에서는 **fit** 함수를 호출하여 훈련 데이터에 모델을 학습\n",
        "    * 훈련하는 동안 2개의 정보가 출력\n",
        "        * 훈련 데이터에 대한 네트워크의 손실과 정확도\n",
        "    * 훈련 데이터에 대해 0.9887(98.9%)의 정확도를 달성\n",
        "* 테스트 세트에서도 모델이 잘 작동하는지 확인\n",
        "    * 0.978...(97.8%) 달성\n",
        "    * 훈련 세트 정확도보다 약간 낮음, **과대적합(overfitting)** 때문\n",
        "    * 과대적합은 머신 러닝 모델이 훈련 데이터보다 새로운 데이터에서 성능이 낮아지는 경향을 말함"
      ],
      "metadata": {
        "id": "KzHBOsw0yfQk"
      }
    }
  ]
}